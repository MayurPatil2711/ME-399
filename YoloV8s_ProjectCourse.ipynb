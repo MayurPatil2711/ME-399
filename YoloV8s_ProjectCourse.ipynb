{
  "nbformat": 4,
  "nbformat_minor": 0,
  "metadata": {
    "colab": {
      "provenance": [],
      "authorship_tag": "ABX9TyOtuKX0nqmB2sU/5MJPVOht",
      "include_colab_link": true
    },
    "kernelspec": {
      "name": "python3",
      "display_name": "Python 3"
    },
    "language_info": {
      "name": "python"
    }
  },
  "cells": [
    {
      "cell_type": "markdown",
      "metadata": {
        "id": "view-in-github",
        "colab_type": "text"
      },
      "source": [
        "<a href=\"https://colab.research.google.com/github/MayurPatil2711/ME-399/blob/main/YoloV8s_ProjectCourse.ipynb\" target=\"_parent\"><img src=\"https://colab.research.google.com/assets/colab-badge.svg\" alt=\"Open In Colab\"/></a>"
      ]
    },
    {
      "cell_type": "code",
      "execution_count": null,
      "metadata": {
        "id": "2L_o28C07a4N"
      },
      "outputs": [],
      "source": [
        "%pip install ultralytics\n",
        "import ultralytics\n",
        "ultralytics.checks()"
      ]
    },
    {
      "cell_type": "code",
      "source": [
        "import ultralytics\n",
        "from ultralytics import YOLO\n",
        "#model = YOLO('yolov8n-cls.pt')  # Replace with your desired model\n",
        "from IPython.display import display, Image"
      ],
      "metadata": {
        "id": "3buooS-67hCG"
      },
      "execution_count": null,
      "outputs": []
    },
    {
      "cell_type": "code",
      "source": [
        "import matplotlib.pyplot as plt\n",
        "import numpy as np\n",
        "import cv2\n",
        "import torch"
      ],
      "metadata": {
        "id": "Db2VCtlg7iYo"
      },
      "execution_count": null,
      "outputs": []
    },
    {
      "cell_type": "code",
      "source": [
        "from google.colab import drive\n",
        "drive.mount('/content/drive')"
      ],
      "metadata": {
        "id": "rKdpywIa7kZO"
      },
      "execution_count": null,
      "outputs": []
    },
    {
      "cell_type": "markdown",
      "source": [
        "# Training"
      ],
      "metadata": {
        "id": "hXqPky5-7mZ9"
      }
    },
    {
      "cell_type": "code",
      "source": [
        "%cd /content/drive/MyDrive/Project Course\n",
        "\n",
        "!yolo task=detect mode=train model=yolov8s.pt data= data.yaml epochs=15 imgsz=224 plots=True"
      ],
      "metadata": {
        "id": "znCqDrPa7l0P"
      },
      "execution_count": null,
      "outputs": []
    },
    {
      "cell_type": "markdown",
      "source": [
        "# Predictions"
      ],
      "metadata": {
        "id": "m0N8-Yez7qiX"
      }
    },
    {
      "cell_type": "code",
      "source": [
        "!yolo task=detect mode=predict model='/content/drive/MyDrive/Project Course/runs/detect/train_small_yolo/weights/best.pt' source='/content/drive/MyDrive/Project Course/test/images' conf = 0.25 show = True"
      ],
      "metadata": {
        "id": "ZfX74Y-g7tGL"
      },
      "execution_count": null,
      "outputs": []
    },
    {
      "cell_type": "code",
      "source": [
        "model_path = '/content/drive/MyDrive/Project Course/runs/detect/train_small_yolo/weights/best.pt'\n",
        "model = YOLO(model_path)\n",
        "\n",
        "# Specify the source of the test images\n",
        "source = '/content/drive/MyDrive/Project Course/NewTest/Images'\n",
        "\n",
        "# Perform predictions on the test images\n",
        "results = model.predict(source, conf=0.25)"
      ],
      "metadata": {
        "id": "kQgDFrQx7t4v"
      },
      "execution_count": null,
      "outputs": []
    },
    {
      "cell_type": "markdown",
      "source": [
        "# Saving Results"
      ],
      "metadata": {
        "id": "fc8QU-ni70Uu"
      }
    },
    {
      "cell_type": "code",
      "source": [
        "# Specify the file to save annotations\n",
        "folder = \"/content/drive/MyDrive/Project Course/NewTest/Labels Predicted\"\n",
        "i = 0\n",
        "\n",
        "for result in results:\n",
        "  i = i+1\n",
        "  annotated_file = f'/content/drive/MyDrive/Project Course/NewTest/Labels Predicted/IMG {i}.csv'\n",
        "  with open(annotated_file, 'w') as f:\n",
        "    for box in result.boxes:\n",
        "      x1, y1, x2, y2 = box.xywh[0].tolist()\n",
        "      class_id = int(box.cls)\n",
        "      confidence = box.conf.tolist()\n",
        "      f.write(f\"{0},{x1},{y1},{x2},{y2},{confidence[0]}\\n\")"
      ],
      "metadata": {
        "id": "ZM2Ctd3370zn"
      },
      "execution_count": null,
      "outputs": []
    },
    {
      "cell_type": "markdown",
      "source": [
        "# Plots"
      ],
      "metadata": {
        "id": "Z42kQ8PZ78bx"
      }
    },
    {
      "cell_type": "code",
      "source": [
        "import pandas as pd\n",
        "import matplotlib.pyplot as plt\n",
        "\n",
        "folder = \"/content/drive/MyDrive/Project Course/NewTest/Labels Predicted\"\n",
        "\n",
        "\n",
        "for i in range(1, 810):\n",
        "  file_path = f'/content/drive/MyDrive/Project Course/NewTest/Labels Predicted/IMG {i}.csv'\n",
        "  data = pd.read_csv(file_path, header = None)\n",
        "  arr = np.sort(data.iloc[:, 3])\n",
        "  plt.hist((arr)/158000, color = \"red\")\n",
        "  plt.xlabel(\"radius (in mm) -->\"), plt.ylabel(\"Frequency-->\"), plt.title(f\"Frequency distribution for YOLOv8 model Frame {i}\")\n",
        "  plt.xlim(0, 0.0015), plt.ylim(0, 100)\n",
        "  image_path = f'/content/drive/MyDrive/Project Course/NewTest/Predicted Plots/IMG {i}.jpg'\n",
        "  plt.savefig(image_path)\n",
        "  if i%10 == 0:\n",
        "    plt.show()"
      ],
      "metadata": {
        "id": "GPydKAKU74ev"
      },
      "execution_count": null,
      "outputs": []
    }
  ]
}